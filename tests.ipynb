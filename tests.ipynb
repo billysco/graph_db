{
 "cells": [
  {
   "cell_type": "code",
   "execution_count": 1,
   "metadata": {},
   "outputs": [
    {
     "name": "stdout",
     "output_type": "stream",
     "text": [
      "[['Alice', 'Bob', 'Charlie']]\n",
      "['Alice', 'Bob', 'Charlie']\n"
     ]
    }
   ],
   "source": [
    "from graph_db import Graph\n",
    "\n",
    "g = Graph()\n",
    "\n",
    "# Add nodes\n",
    "g.add_node(\"Alice\", age=30, occupation=\"Data Scientist\")\n",
    "g.add_node(\"Bob\", age=25, occupation=\"Engineer\")\n",
    "g.add_node(\"Charlie\", age=35, occupation=\"Manager\")\n",
    "\n",
    "# Add bidirectional edges\n",
    "g.add_edge(\"Alice\", \"Bob\", bidirectional=True, relation=\"knows\")\n",
    "g.add_edge(\"Bob\", \"Charlie\", bidirectional=True, relation=\"works_with\")\n",
    "\n",
    "# Find paths\n",
    "print(g.get_all_paths(\"Alice\", \"Charlie\"))  # All possible paths\n",
    "print(g.shortest_path(\"Alice\", \"Charlie\"))  # Shortest path"
   ]
  },
  {
   "cell_type": "code",
   "execution_count": null,
   "metadata": {},
   "outputs": [],
   "source": []
  }
 ],
 "metadata": {
  "kernelspec": {
   "display_name": "Python 3",
   "language": "python",
   "name": "python3"
  },
  "language_info": {
   "codemirror_mode": {
    "name": "ipython",
    "version": 3
   },
   "file_extension": ".py",
   "mimetype": "text/x-python",
   "name": "python",
   "nbconvert_exporter": "python",
   "pygments_lexer": "ipython3",
   "version": "3.11.8"
  }
 },
 "nbformat": 4,
 "nbformat_minor": 2
}
